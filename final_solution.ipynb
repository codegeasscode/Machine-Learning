{
 "cells": [
  {
   "cell_type": "code",
   "execution_count": 1,
   "id": "9e9d7d22",
   "metadata": {},
   "outputs": [],
   "source": [
    "import pandas as pd"
   ]
  },
  {
   "cell_type": "code",
   "execution_count": 2,
   "id": "49a2ea20",
   "metadata": {},
   "outputs": [],
   "source": [
    "df=pd.read_csv('modified.csv')"
   ]
  },
  {
   "cell_type": "code",
   "execution_count": 3,
   "id": "26e1fcf4",
   "metadata": {},
   "outputs": [
    {
     "name": "stdout",
     "output_type": "stream",
     "text": [
      "<class 'pandas.core.frame.DataFrame'>\n",
      "RangeIndex: 1689188 entries, 0 to 1689187\n",
      "Data columns (total 2 columns):\n",
      " #   Column      Non-Null Count    Dtype \n",
      "---  ------      --------------    ----- \n",
      " 0   Unnamed: 0  1689188 non-null  int64 \n",
      " 1   summary     1689173 non-null  object\n",
      "dtypes: int64(1), object(1)\n",
      "memory usage: 25.8+ MB\n"
     ]
    }
   ],
   "source": [
    "df.info()"
   ]
  },
  {
   "cell_type": "code",
   "execution_count": 4,
   "id": "768d84ab",
   "metadata": {},
   "outputs": [
    {
     "name": "stdout",
     "output_type": "stream",
     "text": [
      "Requirement already satisfied: gensim in c:\\users\\com\\anaconda3\\lib\\site-packages (4.1.2)\n",
      "Requirement already satisfied: numpy>=1.17.0 in c:\\users\\com\\anaconda3\\lib\\site-packages (from gensim) (1.20.1)\n",
      "Requirement already satisfied: Cython==0.29.23 in c:\\users\\com\\anaconda3\\lib\\site-packages (from gensim) (0.29.23)\n",
      "Requirement already satisfied: smart-open>=1.8.1 in c:\\users\\com\\anaconda3\\lib\\site-packages (from gensim) (5.2.1)\n",
      "Requirement already satisfied: scipy>=0.18.1 in c:\\users\\com\\anaconda3\\lib\\site-packages (from gensim) (1.6.2)\n"
     ]
    }
   ],
   "source": [
    "! pip install gensim\n",
    "import gensim"
   ]
  },
  {
   "cell_type": "code",
   "execution_count": 5,
   "id": "ccf78490",
   "metadata": {},
   "outputs": [],
   "source": [
    "from gensim.models import Word2Vec"
   ]
  },
  {
   "cell_type": "code",
   "execution_count": 6,
   "id": "52edb09a",
   "metadata": {},
   "outputs": [
    {
     "data": {
      "text/plain": [
       "dtype('O')"
      ]
     },
     "execution_count": 6,
     "metadata": {},
     "output_type": "execute_result"
    }
   ],
   "source": [
    "df['summary'].dtype"
   ]
  },
  {
   "cell_type": "code",
   "execution_count": 7,
   "id": "0e874c94",
   "metadata": {},
   "outputs": [],
   "source": [
    "df['summary']=df['summary'].astype(str)"
   ]
  },
  {
   "cell_type": "code",
   "execution_count": 8,
   "id": "07f5f099",
   "metadata": {},
   "outputs": [],
   "source": [
    "reviewText=df['summary'].apply(gensim.utils.simple_preprocess)"
   ]
  },
  {
   "cell_type": "code",
   "execution_count": 9,
   "id": "799729b7",
   "metadata": {},
   "outputs": [
    {
     "data": {
      "text/plain": [
       "0                                         [gotta, have, gps]\n",
       "1                                       [very, disappointed]\n",
       "2                                           [st, impression]\n",
       "3                                [great, grafics, poor, gps]\n",
       "4               [major, issues, only, excuses, for, support]\n",
       "                                 ...                        \n",
       "1689183                     [boom, pop, pow, these, deliver]\n",
       "1689184    [thin, and, light, without, compromising, on, ...\n",
       "1689185    [same, form, factor, and, durability, as, the,...\n",
       "1689186    [superb, audio, quality, in, very, comfortable...\n",
       "1689187                                 [exceptional, sound]\n",
       "Name: summary, Length: 1689188, dtype: object"
      ]
     },
     "execution_count": 9,
     "metadata": {},
     "output_type": "execute_result"
    }
   ],
   "source": [
    "reviewText"
   ]
  },
  {
   "cell_type": "code",
   "execution_count": 11,
   "id": "39df972a",
   "metadata": {},
   "outputs": [],
   "source": [
    "model=Word2Vec(reviewText,min_count=3,window=3,sg=1)"
   ]
  },
  {
   "cell_type": "code",
   "execution_count": 13,
   "id": "4999bedc",
   "metadata": {},
   "outputs": [],
   "source": [
    "model.build_vocab(reviewText)"
   ]
  },
  {
   "cell_type": "code",
   "execution_count": 15,
   "id": "2d43c6b1",
   "metadata": {},
   "outputs": [
    {
     "data": {
      "text/plain": [
       "1689188"
      ]
     },
     "execution_count": 15,
     "metadata": {},
     "output_type": "execute_result"
    }
   ],
   "source": [
    "model.corpus_count"
   ]
  },
  {
   "cell_type": "code",
   "execution_count": 17,
   "id": "5d62bebb",
   "metadata": {},
   "outputs": [
    {
     "data": {
      "text/plain": [
       "(28106387, 37442925)"
      ]
     },
     "execution_count": 17,
     "metadata": {},
     "output_type": "execute_result"
    }
   ],
   "source": [
    "model.train(reviewText,total_examples=model.corpus_count,epochs=model.epochs)"
   ]
  },
  {
   "cell_type": "code",
   "execution_count": 18,
   "id": "785afd44",
   "metadata": {},
   "outputs": [
    {
     "data": {
      "text/plain": [
       "[('dolby', 0.7038988471031189),\n",
       " ('sound', 0.6853411793708801),\n",
       " ('stereo', 0.6592406630516052),\n",
       " ('input', 0.6337265968322754),\n",
       " ('cvbs', 0.6244184970855713),\n",
       " ('analog', 0.621440589427948),\n",
       " ('microphone', 0.6184344291687012),\n",
       " ('toslink', 0.6115096211433411),\n",
       " ('output', 0.6111874580383301),\n",
       " ('condenser', 0.6109113693237305)]"
      ]
     },
     "execution_count": 18,
     "metadata": {},
     "output_type": "execute_result"
    }
   ],
   "source": [
    "model.wv.most_similar(\"audio\")"
   ]
  },
  {
   "cell_type": "code",
   "execution_count": 19,
   "id": "89c2339a",
   "metadata": {},
   "outputs": [
    {
     "data": {
      "text/plain": [
       "0.28561744"
      ]
     },
     "execution_count": 19,
     "metadata": {},
     "output_type": "execute_result"
    }
   ],
   "source": [
    "model.wv.similarity(w1=\"stereo\", w2=\"good\")"
   ]
  },
  {
   "cell_type": "code",
   "execution_count": 20,
   "id": "78260ef9",
   "metadata": {},
   "outputs": [
    {
     "data": {
      "text/plain": [
       "0.28441554"
      ]
     },
     "execution_count": 20,
     "metadata": {},
     "output_type": "execute_result"
    }
   ],
   "source": [
    "model.wv.similarity(w1=\"dolby\", w2=\"good\")"
   ]
  },
  {
   "cell_type": "code",
   "execution_count": 21,
   "id": "947217ea",
   "metadata": {},
   "outputs": [
    {
     "data": {
      "text/plain": [
       "[('reliability', 0.7234222292900085),\n",
       " ('comfort', 0.6955444812774658),\n",
       " ('longevity', 0.6901258230209351),\n",
       " ('portability', 0.6818607449531555),\n",
       " ('usability', 0.6741359829902649),\n",
       " ('quailty', 0.6497393846511841),\n",
       " ('appearance', 0.6384865045547485),\n",
       " ('aesthetics', 0.6350204944610596),\n",
       " ('materials', 0.6258541941642761),\n",
       " ('qualit', 0.6214216947555542)]"
      ]
     },
     "execution_count": 21,
     "metadata": {},
     "output_type": "execute_result"
    }
   ],
   "source": [
    "model.wv.most_similar(\"durability\")"
   ]
  },
  {
   "cell_type": "code",
   "execution_count": null,
   "id": "c9492e85",
   "metadata": {},
   "outputs": [],
   "source": []
  }
 ],
 "metadata": {
  "kernelspec": {
   "display_name": "Python 3",
   "language": "python",
   "name": "python3"
  },
  "language_info": {
   "codemirror_mode": {
    "name": "ipython",
    "version": 3
   },
   "file_extension": ".py",
   "mimetype": "text/x-python",
   "name": "python",
   "nbconvert_exporter": "python",
   "pygments_lexer": "ipython3",
   "version": "3.8.8"
  }
 },
 "nbformat": 4,
 "nbformat_minor": 5
}
